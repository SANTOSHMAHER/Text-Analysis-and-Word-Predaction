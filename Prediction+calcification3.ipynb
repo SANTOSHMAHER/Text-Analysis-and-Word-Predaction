{
  "nbformat": 4,
  "nbformat_minor": 0,
  "metadata": {
    "colab": {
      "name": "Prediction+calcification3.ipynb",
      "version": "0.3.2",
      "provenance": [],
      "include_colab_link": true
    },
    "language_info": {
      "codemirror_mode": {
        "name": "ipython",
        "version": 3
      },
      "file_extension": ".py",
      "mimetype": "text/x-python",
      "name": "python",
      "nbconvert_exporter": "python",
      "pygments_lexer": "ipython3",
      "version": "3.6.8"
    },
    "kernelspec": {
      "name": "python3",
      "display_name": "Python 3"
    },
    "accelerator": "TPU"
  },
  "cells": [
    {
      "cell_type": "markdown",
      "metadata": {
        "id": "view-in-github",
        "colab_type": "text"
      },
      "source": [
        "<a href=\"https://colab.research.google.com/github/SANTOSHMAHER/Text-Analysis-and-Word-Predaction/blob/master/Prediction%2Bcalcification3.ipynb\" target=\"_parent\"><img src=\"https://colab.research.google.com/assets/colab-badge.svg\" alt=\"Open In Colab\"/></a>"
      ]
    },
    {
      "cell_type": "code",
      "metadata": {
        "id": "A7nywJ1gOYh7",
        "colab_type": "code",
        "outputId": "1959f0d2-3990-4057-afaf-0bdcfd41b848",
        "colab": {
          "base_uri": "https://localhost:8080/",
          "height": 34
        }
      },
      "source": [
        "from numpy import array\n",
        "from pickle import dump\n",
        "from keras.preprocessing.text import Tokenizer\n",
        "from keras.utils import to_categorical\n",
        "from keras.models import Sequential\n",
        "from keras.preprocessing.sequence import pad_sequences\n",
        "from keras.layers import LSTM,Embedding,Bidirectional,Dense,Dropout\n",
        "\n",
        "import matplotlib.pyplot as plt \n",
        "from matplotlib.pyplot import imshow \n",
        "%matplotlib inline \n",
        "from keras import losses \n",
        "from keras.callbacks import ModelCheckpoint \n",
        "\n",
        "import re\n",
        "import string \n",
        "import pandas as pd \n",
        "import numpy as np\n",
        "import sys\n",
        "import io\n",
        "import os"
      ],
      "execution_count": 0,
      "outputs": [
        {
          "output_type": "stream",
          "text": [
            "Using TensorFlow backend.\n"
          ],
          "name": "stderr"
        }
      ]
    },
    {
      "cell_type": "code",
      "metadata": {
        "id": "NXxd8ST3OYiB",
        "colab_type": "code",
        "outputId": "ca9ddd2c-b507-46c9-fdc3-892b584970f4",
        "colab": {
          "base_uri": "https://localhost:8080/",
          "height": 476
        }
      },
      "source": [
        "df=pd.read_excel(\"2019_ted.xlsx\")\n",
        "df.head()"
      ],
      "execution_count": 0,
      "outputs": [
        {
          "output_type": "execute_result",
          "data": {
            "text/html": [
              "<div>\n",
              "<style scoped>\n",
              "    .dataframe tbody tr th:only-of-type {\n",
              "        vertical-align: middle;\n",
              "    }\n",
              "\n",
              "    .dataframe tbody tr th {\n",
              "        vertical-align: top;\n",
              "    }\n",
              "\n",
              "    .dataframe thead th {\n",
              "        text-align: right;\n",
              "    }\n",
              "</style>\n",
              "<table border=\"1\" class=\"dataframe\">\n",
              "  <thead>\n",
              "    <tr style=\"text-align: right;\">\n",
              "      <th></th>\n",
              "      <th>Title</th>\n",
              "      <th>Description</th>\n",
              "      <th>Ref</th>\n",
              "      <th>TypeOfContract</th>\n",
              "      <th>Cpv (main)</th>\n",
              "      <th>Cpv (additional)</th>\n",
              "    </tr>\n",
              "  </thead>\n",
              "  <tbody>\n",
              "    <tr>\n",
              "      <th>0</th>\n",
              "      <td>Provision of consultancy services for Faciliti...</td>\n",
              "      <td>Where expert knowledge on complex facilities m...</td>\n",
              "      <td>FM/08/CS/MC/18</td>\n",
              "      <td>SERVICES</td>\n",
              "      <td>79993100</td>\n",
              "      <td>79993000</td>\n",
              "    </tr>\n",
              "    <tr>\n",
              "      <th>1</th>\n",
              "      <td>Bathymetry — High Resolution Seabed Mapping</td>\n",
              "      <td>EASME is launching an Invitation to Tender wit...</td>\n",
              "      <td>EASME/EMFF/2018/007</td>\n",
              "      <td>SERVICES</td>\n",
              "      <td>79000000</td>\n",
              "      <td>NaN</td>\n",
              "    </tr>\n",
              "    <tr>\n",
              "      <th>2</th>\n",
              "      <td>Assistance Mechanism for the Western Mediterra...</td>\n",
              "      <td>EASME is launching this call for tenders divid...</td>\n",
              "      <td>EASME/EMFF/2017/039</td>\n",
              "      <td>SERVICES</td>\n",
              "      <td>79000000</td>\n",
              "      <td>79000000</td>\n",
              "    </tr>\n",
              "    <tr>\n",
              "      <th>3</th>\n",
              "      <td>UCA 18/068 — Management of the crèche at the G...</td>\n",
              "      <td>See II.2.4).The General Secretariat of the Cou...</td>\n",
              "      <td>UCA 18/068</td>\n",
              "      <td>SERVICES</td>\n",
              "      <td>85312110</td>\n",
              "      <td>NaN</td>\n",
              "    </tr>\n",
              "    <tr>\n",
              "      <th>4</th>\n",
              "      <td>Technical Support for the Development and Upda...</td>\n",
              "      <td>EUROMOD is a tax-benefit microsimulation model...</td>\n",
              "      <td>JRC/SVQ/2018/B.2/0017/OC</td>\n",
              "      <td>SERVICES</td>\n",
              "      <td>72330000</td>\n",
              "      <td>72330000,72300000</td>\n",
              "    </tr>\n",
              "  </tbody>\n",
              "</table>\n",
              "</div>"
            ],
            "text/plain": [
              "                                               Title  ...   Cpv (additional)\n",
              "0  Provision of consultancy services for Faciliti...  ...           79993000\n",
              "1        Bathymetry — High Resolution Seabed Mapping  ...                NaN\n",
              "2  Assistance Mechanism for the Western Mediterra...  ...           79000000\n",
              "3  UCA 18/068 — Management of the crèche at the G...  ...                NaN\n",
              "4  Technical Support for the Development and Upda...  ...  72330000,72300000\n",
              "\n",
              "[5 rows x 6 columns]"
            ]
          },
          "metadata": {
            "tags": []
          },
          "execution_count": 6
        }
      ]
    },
    {
      "cell_type": "code",
      "metadata": {
        "id": "lIa0WrH0OYiF",
        "colab_type": "code",
        "outputId": "3a461d35-65fe-4795-c1fa-8e080c55f4a2",
        "colab": {
          "base_uri": "https://localhost:8080/",
          "height": 204
        }
      },
      "source": [
        "df = df[[\"Title\",\"Cpv (main)\"]]\n",
        "df.head()"
      ],
      "execution_count": 0,
      "outputs": [
        {
          "output_type": "execute_result",
          "data": {
            "text/html": [
              "<div>\n",
              "<style scoped>\n",
              "    .dataframe tbody tr th:only-of-type {\n",
              "        vertical-align: middle;\n",
              "    }\n",
              "\n",
              "    .dataframe tbody tr th {\n",
              "        vertical-align: top;\n",
              "    }\n",
              "\n",
              "    .dataframe thead th {\n",
              "        text-align: right;\n",
              "    }\n",
              "</style>\n",
              "<table border=\"1\" class=\"dataframe\">\n",
              "  <thead>\n",
              "    <tr style=\"text-align: right;\">\n",
              "      <th></th>\n",
              "      <th>Title</th>\n",
              "      <th>Cpv (main)</th>\n",
              "    </tr>\n",
              "  </thead>\n",
              "  <tbody>\n",
              "    <tr>\n",
              "      <th>0</th>\n",
              "      <td>Provision of consultancy services for Faciliti...</td>\n",
              "      <td>79993100</td>\n",
              "    </tr>\n",
              "    <tr>\n",
              "      <th>1</th>\n",
              "      <td>Bathymetry — High Resolution Seabed Mapping</td>\n",
              "      <td>79000000</td>\n",
              "    </tr>\n",
              "    <tr>\n",
              "      <th>2</th>\n",
              "      <td>Assistance Mechanism for the Western Mediterra...</td>\n",
              "      <td>79000000</td>\n",
              "    </tr>\n",
              "    <tr>\n",
              "      <th>3</th>\n",
              "      <td>UCA 18/068 — Management of the crèche at the G...</td>\n",
              "      <td>85312110</td>\n",
              "    </tr>\n",
              "    <tr>\n",
              "      <th>4</th>\n",
              "      <td>Technical Support for the Development and Upda...</td>\n",
              "      <td>72330000</td>\n",
              "    </tr>\n",
              "  </tbody>\n",
              "</table>\n",
              "</div>"
            ],
            "text/plain": [
              "                                               Title  Cpv (main)\n",
              "0  Provision of consultancy services for Faciliti...    79993100\n",
              "1        Bathymetry — High Resolution Seabed Mapping    79000000\n",
              "2  Assistance Mechanism for the Western Mediterra...    79000000\n",
              "3  UCA 18/068 — Management of the crèche at the G...    85312110\n",
              "4  Technical Support for the Development and Upda...    72330000"
            ]
          },
          "metadata": {
            "tags": []
          },
          "execution_count": 7
        }
      ]
    },
    {
      "cell_type": "code",
      "metadata": {
        "id": "XGZdRhqPOYiJ",
        "colab_type": "code",
        "outputId": "e71f5ecd-7c77-4bdf-cf2c-89388f21d0bf",
        "colab": {
          "base_uri": "https://localhost:8080/",
          "height": 204
        }
      },
      "source": [
        "df = df.rename(columns={\"Cpv (main)\":\"CpvMain\"})\n",
        "df.head()"
      ],
      "execution_count": 0,
      "outputs": [
        {
          "output_type": "execute_result",
          "data": {
            "text/html": [
              "<div>\n",
              "<style scoped>\n",
              "    .dataframe tbody tr th:only-of-type {\n",
              "        vertical-align: middle;\n",
              "    }\n",
              "\n",
              "    .dataframe tbody tr th {\n",
              "        vertical-align: top;\n",
              "    }\n",
              "\n",
              "    .dataframe thead th {\n",
              "        text-align: right;\n",
              "    }\n",
              "</style>\n",
              "<table border=\"1\" class=\"dataframe\">\n",
              "  <thead>\n",
              "    <tr style=\"text-align: right;\">\n",
              "      <th></th>\n",
              "      <th>Title</th>\n",
              "      <th>CpvMain</th>\n",
              "    </tr>\n",
              "  </thead>\n",
              "  <tbody>\n",
              "    <tr>\n",
              "      <th>0</th>\n",
              "      <td>Provision of consultancy services for Faciliti...</td>\n",
              "      <td>79993100</td>\n",
              "    </tr>\n",
              "    <tr>\n",
              "      <th>1</th>\n",
              "      <td>Bathymetry — High Resolution Seabed Mapping</td>\n",
              "      <td>79000000</td>\n",
              "    </tr>\n",
              "    <tr>\n",
              "      <th>2</th>\n",
              "      <td>Assistance Mechanism for the Western Mediterra...</td>\n",
              "      <td>79000000</td>\n",
              "    </tr>\n",
              "    <tr>\n",
              "      <th>3</th>\n",
              "      <td>UCA 18/068 — Management of the crèche at the G...</td>\n",
              "      <td>85312110</td>\n",
              "    </tr>\n",
              "    <tr>\n",
              "      <th>4</th>\n",
              "      <td>Technical Support for the Development and Upda...</td>\n",
              "      <td>72330000</td>\n",
              "    </tr>\n",
              "  </tbody>\n",
              "</table>\n",
              "</div>"
            ],
            "text/plain": [
              "                                               Title   CpvMain\n",
              "0  Provision of consultancy services for Faciliti...  79993100\n",
              "1        Bathymetry — High Resolution Seabed Mapping  79000000\n",
              "2  Assistance Mechanism for the Western Mediterra...  79000000\n",
              "3  UCA 18/068 — Management of the crèche at the G...  85312110\n",
              "4  Technical Support for the Development and Upda...  72330000"
            ]
          },
          "metadata": {
            "tags": []
          },
          "execution_count": 8
        }
      ]
    },
    {
      "cell_type": "code",
      "metadata": {
        "id": "kvErY7I4OYiN",
        "colab_type": "code",
        "colab": {}
      },
      "source": [
        "df.to_csv(\"ted.txt\", index=False)"
      ],
      "execution_count": 0,
      "outputs": []
    },
    {
      "cell_type": "code",
      "metadata": {
        "id": "nrrIBiN9OYiQ",
        "colab_type": "code",
        "outputId": "dcb75bfd-f1a6-4509-e45d-94f4ed76086f",
        "colab": {
          "base_uri": "https://localhost:8080/",
          "height": 85
        }
      },
      "source": [
        "# load doc into memory\n",
        "def load_doc(filename):\n",
        "    # open the file as read only\n",
        "    file = open(filename, 'r',encoding=\"utf-8\")\n",
        "    # read all text\n",
        "    text = file.read()\n",
        "    # close the file\n",
        "    file.close()\n",
        "    return text\n",
        "doc = load_doc(\"ted.txt\")\n",
        "print(doc[:200])"
      ],
      "execution_count": 0,
      "outputs": [
        {
          "output_type": "stream",
          "text": [
            "Title,CpvMain\n",
            "Provision of consultancy services for Facilities Management,79993100\n",
            "Bathymetry — High Resolution Seabed Mapping,79000000\n",
            "Assistance Mechanism for the Western Mediterranean and the Atlan\n"
          ],
          "name": "stdout"
        }
      ]
    },
    {
      "cell_type": "code",
      "metadata": {
        "id": "Hp6CZdDKOYiU",
        "colab_type": "code",
        "outputId": "22cf0a3f-376c-4da9-807c-d640052841a9",
        "colab": {
          "base_uri": "https://localhost:8080/",
          "height": 88
        }
      },
      "source": [
        "# turn a doc into clean tokens\n",
        "def clean_doc(doc):\n",
        "    doc = doc.replace('-',' ').replace('.0',' ').replace(',',' ')  # replace '--' with a space ' '\n",
        "    tokens = doc.split()  # split into tokens by white space\n",
        "    table = str.maketrans('', '', string.punctuation)  # remove punctuation from each token\n",
        "    tokens = [w.translate(table) for w in tokens]\n",
        "    tokens = [word for word in tokens if word.isalnum()]  # remove remaining tokens that are not alphabetic\n",
        "    tokens = [word.lower() for word in tokens]  # make lower case\n",
        "    return tokens\n",
        "# clean document\n",
        "tokens = clean_doc(doc)\n",
        "print(tokens[:200])\n",
        "print('Total Tokens: %d' % len(tokens))\n",
        "print('Unique Tokens: %d' % len(set(tokens)))"
      ],
      "execution_count": 0,
      "outputs": [
        {
          "output_type": "stream",
          "text": [
            "['title', 'cpvmain', 'provision', 'of', 'consultancy', 'services', 'for', 'facilities', 'management', '79993100', 'bathymetry', 'high', 'resolution', 'seabed', 'mapping', '79000000', 'assistance', 'mechanism', 'for', 'the', 'western', 'mediterranean', 'and', 'the', 'atlantic', 'action', 'plan', 'lot', '1', '2', '79000000', 'uca', '18068', 'management', 'of', 'the', 'crèche', 'at', 'the', 'general', 'secretariat', 'of', 'the', 'council', 'of', 'the', 'european', 'union', '85312110', 'technical', 'support', 'for', 'the', 'development', 'and', 'update', 'of', 'euromod', 'lots', '1', '2', '3', '4', '6', '7', '72330000', 'security', 'guard', 'and', 'receptionswitchboard', 'services', 'for', 'the', 'premises', 'of', 'the', 'eu', 'house', 'in', 'poland', '79710000', 'design', 'and', 'build', 'of', 'the', 'sustainable', 'living', 'complex', 'bldgs', 'substructure', 'inc', 'the', 'respective', 'surrounding', 'landscaping', 'infrastructure', 'part', 'finishes', 'mech', 'and', 'elect', 'wrks', 'in', 'environmentally', 'friendly', 'materials', '44110000', 'west', 'smithfield', 'early', 'works', 'package', 'contract', 'a', '45212313', 'upgrading', 'of', 'interpretation', 'centre', 'regarding', 'tuna', 'fishing', 'at', 'the', 'westreme', 'battery', 'off', 'triq', 'il', 'marfa', 'mellieħa', 'through', 'energy', 'efficient', 'equipment', 'as', 'part', 'of', 'project', 'erdfpa5', '115', '32321200', 'loose', 'furniture', 'and', 'fitting', 'to', 'include', 'library', 'archive', 'reading', 'room', 'office', 'and', 'visitor', 'area', 'and', 'library', 'shelving', 'for', 'kresen', 'kernow', 'lots', '1', '2', '3', '30190000', 'supply', 'and', 'installation', 'of', 'lighting', 'upgrade', '31524120', 'open', 'tender', 'for', 'integrated', 'patient', 'monitoring', 'and', 'telemetry', 'system', '33195000', 'ct30892018', 'tender', 'for', 'the', 'supply', 'installation', 'testing', 'and', 'commissioning', 'of', 'heritage', 'materials', 'charecterisation', 'laboratory', 'equipment']\n",
            "Total Tokens: 47329\n",
            "Unique Tokens: 8823\n"
          ],
          "name": "stdout"
        }
      ]
    },
    {
      "cell_type": "code",
      "metadata": {
        "id": "q55DAd0ROYiY",
        "colab_type": "code",
        "colab": {}
      },
      "source": [
        "# integer encode sequences of words\n",
        "tokenizer = Tokenizer()\n",
        "tokenizer.fit_on_texts(tokens)\n",
        "encoded = tokenizer.texts_to_sequences([tokens])[0]"
      ],
      "execution_count": 0,
      "outputs": []
    },
    {
      "cell_type": "code",
      "metadata": {
        "id": "Gfbo8KnLOYib",
        "colab_type": "code",
        "outputId": "5b9817db-5dc5-40ce-e229-2e8395f4fedf",
        "colab": {
          "base_uri": "https://localhost:8080/",
          "height": 34
        }
      },
      "source": [
        "# retrieve vocabulary size\n",
        "vocab_size = len(tokenizer.word_index) + 1\n",
        "print('Vocabulary Size: %d' % vocab_size)"
      ],
      "execution_count": 0,
      "outputs": [
        {
          "output_type": "stream",
          "text": [
            "Vocabulary Size: 8824\n"
          ],
          "name": "stdout"
        }
      ]
    },
    {
      "cell_type": "code",
      "metadata": {
        "id": "4CXgHRHrOYig",
        "colab_type": "code",
        "outputId": "c9394ff6-5cc8-4e4b-d2e4-4f18856088ed",
        "colab": {
          "base_uri": "https://localhost:8080/",
          "height": 34
        }
      },
      "source": [
        "# encode 2 words -> 1 word\n",
        "sequences = list()\n",
        "for i in range(3, len(encoded)):\n",
        "    sequence = encoded[i-3:i+1]\n",
        "    sequences.append(sequence)\n",
        "print('Total Sequences: %d' % len(sequences))"
      ],
      "execution_count": 0,
      "outputs": [
        {
          "output_type": "stream",
          "text": [
            "Total Sequences: 47326\n"
          ],
          "name": "stdout"
        }
      ]
    },
    {
      "cell_type": "code",
      "metadata": {
        "id": "A_qgCfCqOYim",
        "colab_type": "code",
        "outputId": "46ca3003-2fb6-40e4-9199-888387fcccd7",
        "colab": {
          "base_uri": "https://localhost:8080/",
          "height": 34
        }
      },
      "source": [
        "# pad sequences\n",
        "max_length = max([len(seq) for seq in sequences])\n",
        "sequences = pad_sequences(sequences, maxlen=max_length, padding='pre')\n",
        "print('Max Sequence Length: %d' % max_length) "
      ],
      "execution_count": 0,
      "outputs": [
        {
          "output_type": "stream",
          "text": [
            "Max Sequence Length: 4\n"
          ],
          "name": "stdout"
        }
      ]
    },
    {
      "cell_type": "code",
      "metadata": {
        "id": "aleGCpj1OYiq",
        "colab_type": "code",
        "colab": {}
      },
      "source": [
        "# split into input and output elements\n",
        "sequences = array(sequences)\n",
        "X, y = sequences[:,:-1],sequences[:,-1]\n",
        "y = to_categorical(y, num_classes=vocab_size)"
      ],
      "execution_count": 0,
      "outputs": []
    },
    {
      "cell_type": "code",
      "metadata": {
        "id": "LEGQTQCtOYiu",
        "colab_type": "code",
        "colab": {}
      },
      "source": [
        "# generate a sequence from a language model\n",
        "def generate_seq(model, tokenizer, max_length, seed_text, n_words):\n",
        "    in_text = seed_text\n",
        "    # generate a fixed number of words\n",
        "    for _ in range(n_words):\n",
        "        encoded = tokenizer.texts_to_sequences([in_text])[0]  # encode the text as integer\n",
        "        encoded = pad_sequences([encoded], maxlen=max_length, padding='pre')  # pre-pad sequences to a fixed length\n",
        "        yhat = model.predict_classes(encoded, verbose=0)  # predict probabilities for each word\n",
        "        out_word = ''  # map predicted word index to word\n",
        "        for word, index in tokenizer.word_index.items():\n",
        "            if index == yhat:\n",
        "                out_word = word\n",
        "                break\n",
        "        # append to input\n",
        "        in_text += ' ' + out_word\n",
        "    return in_text"
      ],
      "execution_count": 0,
      "outputs": []
    },
    {
      "cell_type": "code",
      "metadata": {
        "id": "5ntc3enlOYix",
        "colab_type": "code",
        "outputId": "50f2725e-de5d-4d97-c5fc-34e7645193c6",
        "colab": {
          "base_uri": "https://localhost:8080/",
          "height": 309
        }
      },
      "source": [
        "from sklearn.externals import joblib\n",
        "model1 = joblib.load('txt_pred_model2019.pkl')\n",
        "tokenizer1 = joblib.load(\"txt_pred_tokenizer2019.pkl\")\n",
        "\n",
        "#load classification model to predict CpvMain category\n",
        "model2 = joblib.load('ted_2019_clf.pkl')"
      ],
      "execution_count": 0,
      "outputs": [
        {
          "output_type": "stream",
          "text": [
            "WARNING: Logging before flag parsing goes to stderr.\n",
            "W0628 18:10:24.040527 139695729440640 deprecation_wrapper.py:119] From /usr/local/lib/python3.6/dist-packages/keras/backend/tensorflow_backend.py:517: The name tf.placeholder is deprecated. Please use tf.compat.v1.placeholder instead.\n",
            "\n",
            "W0628 18:10:24.097370 139695729440640 deprecation_wrapper.py:119] From /usr/local/lib/python3.6/dist-packages/keras/backend/tensorflow_backend.py:4138: The name tf.random_uniform is deprecated. Please use tf.random.uniform instead.\n",
            "\n",
            "W0628 18:10:24.126617 139695729440640 deprecation_wrapper.py:119] From /usr/local/lib/python3.6/dist-packages/keras/backend/tensorflow_backend.py:74: The name tf.get_default_graph is deprecated. Please use tf.compat.v1.get_default_graph instead.\n",
            "\n",
            "W0628 18:10:24.443916 139695729440640 deprecation_wrapper.py:119] From /usr/local/lib/python3.6/dist-packages/keras/backend/tensorflow_backend.py:174: The name tf.get_default_session is deprecated. Please use tf.compat.v1.get_default_session instead.\n",
            "\n",
            "W0628 18:10:24.445766 139695729440640 deprecation_wrapper.py:119] From /usr/local/lib/python3.6/dist-packages/keras/backend/tensorflow_backend.py:181: The name tf.ConfigProto is deprecated. Please use tf.compat.v1.ConfigProto instead.\n",
            "\n",
            "W0628 18:10:24.854290 139695729440640 deprecation_wrapper.py:119] From /usr/local/lib/python3.6/dist-packages/keras/optimizers.py:790: The name tf.train.Optimizer is deprecated. Please use tf.compat.v1.train.Optimizer instead.\n",
            "\n",
            "W0628 18:10:24.998025 139695729440640 deprecation.py:323] From /usr/local/lib/python3.6/dist-packages/tensorflow/python/ops/math_grad.py:1250: add_dispatch_support.<locals>.wrapper (from tensorflow.python.ops.array_ops) is deprecated and will be removed in a future version.\n",
            "Instructions for updating:\n",
            "Use tf.where in 2.0, which has the same broadcast rule as np.where\n"
          ],
          "name": "stderr"
        }
      ]
    },
    {
      "cell_type": "code",
      "metadata": {
        "id": "bflrcTv6OYiz",
        "colab_type": "code",
        "outputId": "4ed7580c-3bb4-4cc1-f5bd-14b670f8dfb2",
        "colab": {
          "base_uri": "https://localhost:8080/",
          "height": 51
        }
      },
      "source": [
        "print(\"Enter seeds for predict next words sequence\")\n",
        "string = input(str()) "
      ],
      "execution_count": 0,
      "outputs": [
        {
          "output_type": "stream",
          "text": [
            "Enter seeds for predict next words sequence\n",
            "Supply of Advanced Visual\n"
          ],
          "name": "stdout"
        }
      ]
    },
    {
      "cell_type": "code",
      "metadata": {
        "id": "pGZBe6KxUCg6",
        "colab_type": "code",
        "outputId": "43f10ce6-4ff2-45fb-cc56-e0d71c2685a9",
        "colab": {
          "base_uri": "https://localhost:8080/",
          "height": 238
        }
      },
      "source": [
        "model1.summary()"
      ],
      "execution_count": 0,
      "outputs": [
        {
          "output_type": "stream",
          "text": [
            "_________________________________________________________________\n",
            "Layer (type)                 Output Shape              Param #   \n",
            "=================================================================\n",
            "embedding_1 (Embedding)      (None, 4, 10)             88240     \n",
            "_________________________________________________________________\n",
            "lstm_1 (LSTM)                (None, 128)               71168     \n",
            "_________________________________________________________________\n",
            "dense_1 (Dense)              (None, 8824)              1138296   \n",
            "=================================================================\n",
            "Total params: 1,297,704\n",
            "Trainable params: 1,297,704\n",
            "Non-trainable params: 0\n",
            "_________________________________________________________________\n"
          ],
          "name": "stdout"
        }
      ]
    },
    {
      "cell_type": "code",
      "metadata": {
        "id": "iZeDlkYWOYi3",
        "colab_type": "code",
        "outputId": "923dc970-a755-4ff5-bf37-eb82d848a8dc",
        "colab": {
          "base_uri": "https://localhost:8080/",
          "height": 54
        }
      },
      "source": [
        "# evaluate model\n",
        "Predicted_title = generate_seq(model1, tokenizer1, max_length, string,12)\n",
        "Predicted_title"
      ],
      "execution_count": 0,
      "outputs": [
        {
          "output_type": "execute_result",
          "data": {
            "text/plain": [
              "'Supply of Advanced Visual docking guidance systems associated components integration software and ad hoc technical services'"
            ]
          },
          "metadata": {
            "tags": []
          },
          "execution_count": 37
        }
      ]
    },
    {
      "cell_type": "code",
      "metadata": {
        "id": "W5U9pxepOYi6",
        "colab_type": "code",
        "outputId": "1414b6bb-3951-4c48-ad9d-edcc37e01ef5",
        "colab": {
          "base_uri": "https://localhost:8080/",
          "height": 71
        }
      },
      "source": [
        "print(Predicted_title)\n",
        "print(\"CpvMain :\", model2.predict([Predicted_title])[0])"
      ],
      "execution_count": 0,
      "outputs": [
        {
          "output_type": "stream",
          "text": [
            "Supply of Advanced Visual docking guidance systems associated components integration software and ad hoc technical services\n",
            "CpvMain : 34960000\n"
          ],
          "name": "stdout"
        }
      ]
    },
    {
      "cell_type": "code",
      "metadata": {
        "id": "KQsWV9NdOYi9",
        "colab_type": "code",
        "colab": {}
      },
      "source": [
        ""
      ],
      "execution_count": 0,
      "outputs": []
    }
  ]
}