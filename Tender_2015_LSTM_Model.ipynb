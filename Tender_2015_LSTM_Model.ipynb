{
 "cells": [
  {
   "cell_type": "code",
   "execution_count": 2,
   "metadata": {},
   "outputs": [
    {
     "data": {
      "text/html": [
       "<div>\n",
       "<style scoped>\n",
       "    .dataframe tbody tr th:only-of-type {\n",
       "        vertical-align: middle;\n",
       "    }\n",
       "\n",
       "    .dataframe tbody tr th {\n",
       "        vertical-align: top;\n",
       "    }\n",
       "\n",
       "    .dataframe thead th {\n",
       "        text-align: right;\n",
       "    }\n",
       "</style>\n",
       "<table border=\"1\" class=\"dataframe\">\n",
       "  <thead>\n",
       "    <tr style=\"text-align: right;\">\n",
       "      <th></th>\n",
       "      <th>Title</th>\n",
       "      <th>Additional Info</th>\n",
       "      <th>Description</th>\n",
       "      <th>Ref</th>\n",
       "      <th>TypeOfContract</th>\n",
       "      <th>Cpv(main)</th>\n",
       "      <th>Cpv(additional)</th>\n",
       "      <th>Unnamed: 7</th>\n",
       "      <th>Unnamed: 8</th>\n",
       "      <th>Unnamed: 9</th>\n",
       "      <th>...</th>\n",
       "      <th>Unnamed: 124</th>\n",
       "      <th>Unnamed: 125</th>\n",
       "      <th>Unnamed: 126</th>\n",
       "      <th>Unnamed: 127</th>\n",
       "      <th>Unnamed: 128</th>\n",
       "      <th>Unnamed: 129</th>\n",
       "      <th>Unnamed: 130</th>\n",
       "      <th>Unnamed: 131</th>\n",
       "      <th>Unnamed: 132</th>\n",
       "      <th>Unnamed: 133</th>\n",
       "    </tr>\n",
       "  </thead>\n",
       "  <tbody>\n",
       "    <tr>\n",
       "      <th>0</th>\n",
       "      <td>Awarding a contract for establishment of a pub...</td>\n",
       "      <td>construction</td>\n",
       "      <td>financing</td>\n",
       "      <td>operation and distribution of water bottling ...</td>\n",
       "      <td>construction</td>\n",
       "      <td>financing</td>\n",
       "      <td>operation and distribution of water bottling ...</td>\n",
       "      <td>which is realised as a public procurementAwar...</td>\n",
       "      <td>construction</td>\n",
       "      <td>financing</td>\n",
       "      <td>...</td>\n",
       "      <td>NaN</td>\n",
       "      <td>NaN</td>\n",
       "      <td>NaN</td>\n",
       "      <td>NaN</td>\n",
       "      <td>NaN</td>\n",
       "      <td>NaN</td>\n",
       "      <td>NaN</td>\n",
       "      <td>NaN</td>\n",
       "      <td>NaN</td>\n",
       "      <td>NaN</td>\n",
       "    </tr>\n",
       "    <tr>\n",
       "      <th>1</th>\n",
       "      <td>Development and purchase of office space and c...</td>\n",
       "      <td>office space and car parking in the Exeter ar...</td>\n",
       "      <td>office and car park.DCH requires modern</td>\n",
       "      <td>high quality office accommodation and parking...</td>\n",
       "      <td>for completion no later than Spring 2018. Min...</td>\n",
       "      <td>likely to include designated cycle-ways</td>\n",
       "      <td>regular bus or trains to central Exeter (at l...</td>\n",
       "      <td>45210000</td>\n",
       "      <td>45400000</td>\n",
       "      <td>45200000</td>\n",
       "      <td>...</td>\n",
       "      <td>NaN</td>\n",
       "      <td>NaN</td>\n",
       "      <td>NaN</td>\n",
       "      <td>NaN</td>\n",
       "      <td>NaN</td>\n",
       "      <td>NaN</td>\n",
       "      <td>NaN</td>\n",
       "      <td>NaN</td>\n",
       "      <td>NaN</td>\n",
       "      <td>NaN</td>\n",
       "    </tr>\n",
       "    <tr>\n",
       "      <th>2</th>\n",
       "      <td>211/YE/PIN Robotics research facility.\\tThe De...</td>\n",
       "      <td>including sourcing infrastructure equipment a...</td>\n",
       "      <td>such as rough terrain</td>\n",
       "      <td>vegetation</td>\n",
       "      <td>maze</td>\n",
       "      <td>buildings inside and outside</td>\n",
       "      <td>culverts</td>\n",
       "      <td>bridge sections</td>\n",
       "      <td>wall surfaces to simulate high rise buildings...</td>\n",
       "      <td>sensing and monitoring of unmanned air and gr...</td>\n",
       "      <td>...</td>\n",
       "      <td>NaN</td>\n",
       "      <td>NaN</td>\n",
       "      <td>NaN</td>\n",
       "      <td>NaN</td>\n",
       "      <td>NaN</td>\n",
       "      <td>NaN</td>\n",
       "      <td>NaN</td>\n",
       "      <td>NaN</td>\n",
       "      <td>NaN</td>\n",
       "      <td>NaN</td>\n",
       "    </tr>\n",
       "    <tr>\n",
       "      <th>3</th>\n",
       "      <td>Provision of Non Life Insurance</td>\n",
       "      <td>exclusive of Insurance Broking or Claims Mana...</td>\n",
       "      <td>exclusive of Insurance Broking or Claims Mana...</td>\n",
       "      <td>66515411</td>\n",
       "      <td>66516000</td>\n",
       "      <td>66514120</td>\n",
       "      <td>66512000</td>\n",
       "      <td>NaN</td>\n",
       "      <td>NaN</td>\n",
       "      <td>NaN</td>\n",
       "      <td>...</td>\n",
       "      <td>NaN</td>\n",
       "      <td>NaN</td>\n",
       "      <td>NaN</td>\n",
       "      <td>NaN</td>\n",
       "      <td>NaN</td>\n",
       "      <td>NaN</td>\n",
       "      <td>NaN</td>\n",
       "      <td>NaN</td>\n",
       "      <td>NaN</td>\n",
       "      <td>NaN</td>\n",
       "    </tr>\n",
       "    <tr>\n",
       "      <th>4</th>\n",
       "      <td>Provision of Non Life Insurance</td>\n",
       "      <td>exclusive of Insurance Broking or Claims Mana...</td>\n",
       "      <td>exclusive of Insurance Broking or Claims Mana...</td>\n",
       "      <td>66514150</td>\n",
       "      <td>66516500</td>\n",
       "      <td>66512000</td>\n",
       "      <td>66514120</td>\n",
       "      <td>66516000</td>\n",
       "      <td>66514110</td>\n",
       "      <td>NaN</td>\n",
       "      <td>...</td>\n",
       "      <td>NaN</td>\n",
       "      <td>NaN</td>\n",
       "      <td>NaN</td>\n",
       "      <td>NaN</td>\n",
       "      <td>NaN</td>\n",
       "      <td>NaN</td>\n",
       "      <td>NaN</td>\n",
       "      <td>NaN</td>\n",
       "      <td>NaN</td>\n",
       "      <td>NaN</td>\n",
       "    </tr>\n",
       "  </tbody>\n",
       "</table>\n",
       "<p>5 rows × 134 columns</p>\n",
       "</div>"
      ],
      "text/plain": [
       "                                               Title  \\\n",
       "0  Awarding a contract for establishment of a pub...   \n",
       "1  Development and purchase of office space and c...   \n",
       "2  211/YE/PIN Robotics research facility.\\tThe De...   \n",
       "3                    Provision of Non Life Insurance   \n",
       "4                    Provision of Non Life Insurance   \n",
       "\n",
       "                                     Additional Info  \\\n",
       "0                                       construction   \n",
       "1   office space and car parking in the Exeter ar...   \n",
       "2   including sourcing infrastructure equipment a...   \n",
       "3   exclusive of Insurance Broking or Claims Mana...   \n",
       "4   exclusive of Insurance Broking or Claims Mana...   \n",
       "\n",
       "                                         Description  \\\n",
       "0                                          financing   \n",
       "1            office and car park.DCH requires modern   \n",
       "2                              such as rough terrain   \n",
       "3   exclusive of Insurance Broking or Claims Mana...   \n",
       "4   exclusive of Insurance Broking or Claims Mana...   \n",
       "\n",
       "                                                 Ref  \\\n",
       "0   operation and distribution of water bottling ...   \n",
       "1   high quality office accommodation and parking...   \n",
       "2                                         vegetation   \n",
       "3                                           66515411   \n",
       "4                                           66514150   \n",
       "\n",
       "                                      TypeOfContract  \\\n",
       "0                                       construction   \n",
       "1   for completion no later than Spring 2018. Min...   \n",
       "2                                               maze   \n",
       "3                                           66516000   \n",
       "4                                           66516500   \n",
       "\n",
       "                                  Cpv(main)  \\\n",
       "0                                 financing   \n",
       "1   likely to include designated cycle-ways   \n",
       "2              buildings inside and outside   \n",
       "3                                  66514120   \n",
       "4                                  66512000   \n",
       "\n",
       "                                     Cpv(additional)  \\\n",
       "0   operation and distribution of water bottling ...   \n",
       "1   regular bus or trains to central Exeter (at l...   \n",
       "2                                           culverts   \n",
       "3                                           66512000   \n",
       "4                                           66514120   \n",
       "\n",
       "                                          Unnamed: 7  \\\n",
       "0   which is realised as a public procurementAwar...   \n",
       "1                                           45210000   \n",
       "2                                    bridge sections   \n",
       "3                                                NaN   \n",
       "4                                           66516000   \n",
       "\n",
       "                                          Unnamed: 8  \\\n",
       "0                                       construction   \n",
       "1                                           45400000   \n",
       "2   wall surfaces to simulate high rise buildings...   \n",
       "3                                                NaN   \n",
       "4                                           66514110   \n",
       "\n",
       "                                          Unnamed: 9  ... Unnamed: 124  \\\n",
       "0                                          financing  ...          NaN   \n",
       "1                                           45200000  ...          NaN   \n",
       "2   sensing and monitoring of unmanned air and gr...  ...          NaN   \n",
       "3                                                NaN  ...          NaN   \n",
       "4                                                NaN  ...          NaN   \n",
       "\n",
       "  Unnamed: 125 Unnamed: 126 Unnamed: 127 Unnamed: 128 Unnamed: 129  \\\n",
       "0          NaN          NaN          NaN          NaN          NaN   \n",
       "1          NaN          NaN          NaN          NaN          NaN   \n",
       "2          NaN          NaN          NaN          NaN          NaN   \n",
       "3          NaN          NaN          NaN          NaN          NaN   \n",
       "4          NaN          NaN          NaN          NaN          NaN   \n",
       "\n",
       "  Unnamed: 130 Unnamed: 131 Unnamed: 132 Unnamed: 133  \n",
       "0          NaN          NaN          NaN          NaN  \n",
       "1          NaN          NaN          NaN          NaN  \n",
       "2          NaN          NaN          NaN          NaN  \n",
       "3          NaN          NaN          NaN          NaN  \n",
       "4          NaN          NaN          NaN          NaN  \n",
       "\n",
       "[5 rows x 134 columns]"
      ]
     },
     "execution_count": 2,
     "metadata": {},
     "output_type": "execute_result"
    }
   ],
   "source": [
    "# set work directory \n",
    "import os\n",
    "os.getcwd()\n",
    "os.chdir(\"/home/coach/Desktop/sangram/Tend_LSTM_Model/\")\n",
    "\n",
    "# load file\n",
    "import pandas as pd # for Data processing \n",
    "df = pd.read_csv('2015_Ted.csv',delimiter=',',encoding='latin-1') # read file form database\n",
    "df.head() # To check fiest five records of data frame "
   ]
  },
  {
   "cell_type": "code",
   "execution_count": 3,
   "metadata": {},
   "outputs": [],
   "source": [
    "# split data into train and test \n",
    "from sklearn.model_selection import train_test_split  # import standared train, test split library \n",
    "train_cat, test_cat = train_test_split(df['Cpv(main)'], test_size = 0.2)  # Spliting categories/ lables into train and test \n",
    "train_text, test_text = train_test_split(df['Description'], test_size = 0.2)  # Spliting text data into train and test "
   ]
  },
  {
   "cell_type": "code",
   "execution_count": 4,
   "metadata": {},
   "outputs": [
    {
     "data": {
      "text/plain": [
       "((60,), (15,), (60,), (15,))"
      ]
     },
     "execution_count": 4,
     "metadata": {},
     "output_type": "execute_result"
    }
   ],
   "source": [
    "train_cat.shape , test_cat.shape, train_text.shape, test_text.shape  # inspect the Shape and size of train, test split data"
   ]
  },
  {
   "cell_type": "code",
   "execution_count": 5,
   "metadata": {},
   "outputs": [],
   "source": [
    "from sklearn import preprocessing # importing standared library for text preprocessing \n",
    "\n",
    "# encoding the target variable ie. category \n",
    "encoder = preprocessing.LabelEncoder()\n",
    "y_train = encoder.fit_transform(train_cat.astype(str))\n",
    "y_test = encoder.fit_transform(test_cat.astype(str))"
   ]
  },
  {
   "cell_type": "code",
   "execution_count": 6,
   "metadata": {},
   "outputs": [
    {
     "name": "stderr",
     "output_type": "stream",
     "text": [
      "Using TensorFlow backend.\n"
     ]
    }
   ],
   "source": [
    "# cleanig and tokenizing text with keras\n",
    "import keras\n",
    "from keras_preprocessing import text\n",
    "max_words = 10000\n",
    "tokenize = keras.preprocessing.text.Tokenizer(num_words=max_words,filters='!\"#$%&()*+,-./:;<=>?@[\\]^_`{|}~', lower=True, split=' ',char_level=False, oov_token=None)\n",
    "tokenize.fit_on_texts(train_text.astype(str)) # fit tokenizer to our training text data"
   ]
  },
  {
   "cell_type": "code",
   "execution_count": 7,
   "metadata": {},
   "outputs": [
    {
     "data": {
      "text/plain": [
       "(60, 10000)"
      ]
     },
     "execution_count": 7,
     "metadata": {},
     "output_type": "execute_result"
    }
   ],
   "source": [
    "# creatin text_to_matrix for calculating term-frequency-inverse document frequency for training\n",
    "x_train = tokenize.texts_to_matrix(train_text.astype(str), mode = \"tfidf\") \n",
    "x_train.shape"
   ]
  },
  {
   "cell_type": "code",
   "execution_count": 8,
   "metadata": {},
   "outputs": [],
   "source": [
    "# cleanig and tokenizing text with keras\n",
    "#import keras\n",
    "from keras_preprocessing import text\n",
    "max_words = 10000\n",
    "tokenize = keras.preprocessing.text.Tokenizer(num_words=max_words,filters='!\"#$%&()*+,-./:;<=>?@[\\]^_`{|}~', lower=True, split=' ',char_level=False, oov_token=None)\n",
    "tokenize.fit_on_texts(train_text.astype(str)) # fit tokenizer to our training text data"
   ]
  },
  {
   "cell_type": "code",
   "execution_count": 9,
   "metadata": {},
   "outputs": [
    {
     "data": {
      "text/plain": [
       "(60, 10000)"
      ]
     },
     "execution_count": 9,
     "metadata": {},
     "output_type": "execute_result"
    }
   ],
   "source": [
    "# creatin text_to_matrix for calculating term-frequency-inverse document frequency for training\n",
    "x_train = tokenize.texts_to_matrix(train_text.astype(str), mode = \"tfidf\") \n",
    "x_train.shape"
   ]
  },
  {
   "cell_type": "code",
   "execution_count": 10,
   "metadata": {},
   "outputs": [],
   "source": [
    "# cleanig and tokenizing text with keras\n",
    "from keras_preprocessing import text\n",
    "max_words = 10000\n",
    "tokenize = keras.preprocessing.text.Tokenizer(num_words=max_words,filters='!\"#$%&()*+,-./:;<=>?@[\\]^_`{|}~', lower=True, split=' ',char_level=False, oov_token=None)\n",
    "tokenize.fit_on_texts(train_text.astype(str)) # fit tokenizer to our training text data"
   ]
  },
  {
   "cell_type": "code",
   "execution_count": 11,
   "metadata": {},
   "outputs": [
    {
     "data": {
      "text/plain": [
       "(15, 10000)"
      ]
     },
     "execution_count": 11,
     "metadata": {},
     "output_type": "execute_result"
    }
   ],
   "source": [
    "# creatin text_to_matrix for calculating term-frequency-inverse document frequency for testing\n",
    "x_test = tokenize.texts_to_matrix(test_text.astype(str), mode = \"tfidf\")\n",
    "x_test.shape"
   ]
  },
  {
   "cell_type": "code",
   "execution_count": 12,
   "metadata": {},
   "outputs": [
    {
     "data": {
      "text/plain": [
       "((60, 40), (15, 40))"
      ]
     },
     "execution_count": 12,
     "metadata": {},
     "output_type": "execute_result"
    }
   ],
   "source": [
    "import numpy as np #importing numpy for linear algebric operations\n",
    "\n",
    "# # Converts the labels to a one-hot representation\n",
    "num_classes = np.max(y_train.astype(int)) + 1\n",
    "y_train = keras.utils.to_categorical(y_train, num_classes)\n",
    "y_test = keras.utils.to_categorical(y_test, num_classes)\n",
    "y_train.shape , y_test.shape"
   ]
  },
  {
   "cell_type": "code",
   "execution_count": 13,
   "metadata": {},
   "outputs": [
    {
     "name": "stdout",
     "output_type": "stream",
     "text": [
      "x_train shape: (60, 10000)\n",
      "x_test shape: (15, 10000)\n",
      "y_train shape: (60, 40)\n",
      "y_test shape: (15, 40)\n"
     ]
    }
   ],
   "source": [
    "# Inspect the dimenstions of our training and test data (this is helpful to debug)\n",
    "print('x_train shape:', x_train.shape)\n",
    "print('x_test shape:', x_test.shape)\n",
    "print('y_train shape:', y_train.shape)\n",
    "print('y_test shape:', y_test.shape)"
   ]
  },
  {
   "cell_type": "code",
   "execution_count": 14,
   "metadata": {},
   "outputs": [],
   "source": [
    "import tensorflow as tf\n",
    "#from tensorflow import keras\n",
    "from keras.models import Sequential\n",
    "from keras.layers.core import Dense, Activation, Dropout\n",
    "from keras.layers.recurrent import LSTM\n",
    "from keras.layers import Embedding"
   ]
  },
  {
   "cell_type": "code",
   "execution_count": 15,
   "metadata": {},
   "outputs": [],
   "source": [
    "# This model trains very quickly and 2 epochs are already more than enough\n",
    "# Training for more epochs will likely lead to overfitting on this dataset\n",
    "\n",
    "batch_size = 32\n",
    "epochs = 2-3\n",
    "drop_ratio = 0.5\n",
    "max_words=10000"
   ]
  },
  {
   "cell_type": "code",
   "execution_count": 16,
   "metadata": {},
   "outputs": [],
   "source": [
    "def Tend_LSTM():\n",
    "    model = Sequential()\n",
    "    model.add(Embedding(max_words, 1))\n",
    "    model.add(LSTM(128, dropout=0.5, recurrent_dropout=0.5))\n",
    "    model.add(Dense(num_classes, activation='softmax'))\n",
    "    model.compile(loss='binary_crossentropy', optimizer='rmsprop', metrics=['accuracy'])\n",
    "    return model"
   ]
  },
  {
   "cell_type": "code",
   "execution_count": 25,
   "metadata": {},
   "outputs": [
    {
     "name": "stdout",
     "output_type": "stream",
     "text": [
      "_________________________________________________________________\n",
      "Layer (type)                 Output Shape              Param #   \n",
      "=================================================================\n",
      "embedding_2 (Embedding)      (None, None, 1)           10000     \n",
      "_________________________________________________________________\n",
      "lstm_2 (LSTM)                (None, 128)               66560     \n",
      "_________________________________________________________________\n",
      "dense_2 (Dense)              (None, 40)                5160      \n",
      "=================================================================\n",
      "Total params: 81,720\n",
      "Trainable params: 81,720\n",
      "Non-trainable params: 0\n",
      "_________________________________________________________________\n"
     ]
    }
   ],
   "source": [
    "model = Tend_LSTM()\n",
    "model.summary()"
   ]
  },
  {
   "cell_type": "code",
   "execution_count": 19,
   "metadata": {},
   "outputs": [
    {
     "name": "stdout",
     "output_type": "stream",
     "text": [
      "Epoch 1/2\n",
      "60/60 [==============================] - 42s 696ms/step - loss: 0.1067 - acc: 0.9750\n",
      "Epoch 2/2\n",
      "60/60 [==============================] - 37s 622ms/step - loss: 0.1086 - acc: 0.9746\n",
      "15/15 [==============================] - 1s 86ms/step\n",
      "Testing score Loss: 0.128  Accuracy: 0.975\n"
     ]
    }
   ],
   "source": [
    "# train models with 2 epoch \n",
    "model.fit(x_train, y_train, batch_size=16, epochs=2)\n",
    "score = model.evaluate(x_test, y_test, batch_size=32)\n",
    "print('Testing score Loss: {:0.3f}  Accuracy: {:0.3f}'.format(score[0],score[1]))"
   ]
  },
  {
   "cell_type": "code",
   "execution_count": 20,
   "metadata": {},
   "outputs": [
    {
     "name": "stdout",
     "output_type": "stream",
     "text": [
      "Epoch 1/2\n",
      "60/60 [==============================] - 39s 646ms/step - loss: 0.1035 - acc: 0.9754\n",
      "Epoch 2/2\n",
      "60/60 [==============================] - 37s 625ms/step - loss: 0.1027 - acc: 0.9754\n",
      "15/15 [==============================] - 1s 95ms/step\n",
      "Testing score Loss: 0.127  Accuracy: 0.975\n"
     ]
    }
   ],
   "source": [
    "# train models with 2 epoch \n",
    "model.fit(x_train, y_train, batch_size=16, epochs=2)\n",
    "score = model.evaluate(x_test, y_test, batch_size=32)\n",
    "print('Testing score Loss: {:0.3f}  Accuracy: {:0.3f}'.format(score[0],score[1]))"
   ]
  }
 ],
 "metadata": {
  "kernelspec": {
   "display_name": "Python 3",
   "language": "python",
   "name": "python3"
  },
  "language_info": {
   "codemirror_mode": {
    "name": "ipython",
    "version": 3
   },
   "file_extension": ".py",
   "mimetype": "text/x-python",
   "name": "python",
   "nbconvert_exporter": "python",
   "pygments_lexer": "ipython3",
   "version": "3.6.0"
  }
 },
 "nbformat": 4,
 "nbformat_minor": 2
}
