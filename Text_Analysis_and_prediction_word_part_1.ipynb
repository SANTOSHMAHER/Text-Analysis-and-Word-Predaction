{
  "nbformat": 4,
  "nbformat_minor": 0,
  "metadata": {
    "colab": {
      "name": "Text Analysis and prediction word part-1",
      "version": "0.3.2",
      "provenance": [],
      "collapsed_sections": [],
      "include_colab_link": true
    },
    "kernelspec": {
      "name": "python3",
      "display_name": "Python 3"
    }
  },
  "cells": [
    {
      "cell_type": "markdown",
      "metadata": {
        "id": "view-in-github",
        "colab_type": "text"
      },
      "source": [
        "<a href=\"https://colab.research.google.com/github/SANTOSHMAHER/Text-Analysis-and-Word-Predaction/blob/master/Text_Analysis_and_prediction_word_part_1.ipynb\" target=\"_parent\"><img src=\"https://colab.research.google.com/assets/colab-badge.svg\" alt=\"Open In Colab\"/></a>"
      ]
    },
    {
      "cell_type": "code",
      "metadata": {
        "id": "930z7os63gS-",
        "colab_type": "code",
        "outputId": "aa094e04-d1f8-441e-aee8-2fd7646e3477",
        "colab": {
          "base_uri": "https://localhost:8080/",
          "height": 627
        }
      },
      "source": [
        "# set work directory \n",
        "#import os\n",
        "#os.getcwd()\n",
        "#os.chdir(\"content/2015_Ted.csv\")\n",
        "\n",
        "# load file\n",
        "import pandas as pd # for Data processing \n",
        "df = pd.read_csv('2015_Ted.csv',delimiter=',',encoding='latin-1') # read file form database\n",
        "df.head() # To check fiest five records of data frame "
      ],
      "execution_count": 0,
      "outputs": [
        {
          "output_type": "execute_result",
          "data": {
            "text/html": [
              "<div>\n",
              "<style scoped>\n",
              "    .dataframe tbody tr th:only-of-type {\n",
              "        vertical-align: middle;\n",
              "    }\n",
              "\n",
              "    .dataframe tbody tr th {\n",
              "        vertical-align: top;\n",
              "    }\n",
              "\n",
              "    .dataframe thead th {\n",
              "        text-align: right;\n",
              "    }\n",
              "</style>\n",
              "<table border=\"1\" class=\"dataframe\">\n",
              "  <thead>\n",
              "    <tr style=\"text-align: right;\">\n",
              "      <th></th>\n",
              "      <th>Title</th>\n",
              "      <th>Additional Info</th>\n",
              "      <th>Description</th>\n",
              "      <th>Ref</th>\n",
              "      <th>TypeOfContract</th>\n",
              "      <th>Cpv(main)</th>\n",
              "      <th>Cpv(additional)</th>\n",
              "      <th>Unnamed: 7</th>\n",
              "      <th>Unnamed: 8</th>\n",
              "      <th>Unnamed: 9</th>\n",
              "      <th>...</th>\n",
              "      <th>Unnamed: 124</th>\n",
              "      <th>Unnamed: 125</th>\n",
              "      <th>Unnamed: 126</th>\n",
              "      <th>Unnamed: 127</th>\n",
              "      <th>Unnamed: 128</th>\n",
              "      <th>Unnamed: 129</th>\n",
              "      <th>Unnamed: 130</th>\n",
              "      <th>Unnamed: 131</th>\n",
              "      <th>Unnamed: 132</th>\n",
              "      <th>Unnamed: 133</th>\n",
              "    </tr>\n",
              "  </thead>\n",
              "  <tbody>\n",
              "    <tr>\n",
              "      <th>0</th>\n",
              "      <td>Awarding a contract for establishment of a pub...</td>\n",
              "      <td>construction</td>\n",
              "      <td>financing</td>\n",
              "      <td>operation and distribution of water bottling ...</td>\n",
              "      <td>construction</td>\n",
              "      <td>financing</td>\n",
              "      <td>operation and distribution of water bottling ...</td>\n",
              "      <td>which is realised as a public procurementAwar...</td>\n",
              "      <td>construction</td>\n",
              "      <td>financing</td>\n",
              "      <td>...</td>\n",
              "      <td>NaN</td>\n",
              "      <td>NaN</td>\n",
              "      <td>NaN</td>\n",
              "      <td>NaN</td>\n",
              "      <td>NaN</td>\n",
              "      <td>NaN</td>\n",
              "      <td>NaN</td>\n",
              "      <td>NaN</td>\n",
              "      <td>NaN</td>\n",
              "      <td>NaN</td>\n",
              "    </tr>\n",
              "    <tr>\n",
              "      <th>1</th>\n",
              "      <td>Development and purchase of office space and c...</td>\n",
              "      <td>office space and car parking in the Exeter ar...</td>\n",
              "      <td>office and car park.DCH requires modern</td>\n",
              "      <td>high quality office accommodation and parking...</td>\n",
              "      <td>for completion no later than Spring 2018. Min...</td>\n",
              "      <td>likely to include designated cycle-ways</td>\n",
              "      <td>regular bus or trains to central Exeter (at l...</td>\n",
              "      <td>45210000</td>\n",
              "      <td>45400000</td>\n",
              "      <td>45200000</td>\n",
              "      <td>...</td>\n",
              "      <td>NaN</td>\n",
              "      <td>NaN</td>\n",
              "      <td>NaN</td>\n",
              "      <td>NaN</td>\n",
              "      <td>NaN</td>\n",
              "      <td>NaN</td>\n",
              "      <td>NaN</td>\n",
              "      <td>NaN</td>\n",
              "      <td>NaN</td>\n",
              "      <td>NaN</td>\n",
              "    </tr>\n",
              "    <tr>\n",
              "      <th>2</th>\n",
              "      <td>211/YE/PIN Robotics research facility.\\tThe De...</td>\n",
              "      <td>including sourcing infrastructure equipment a...</td>\n",
              "      <td>such as rough terrain</td>\n",
              "      <td>vegetation</td>\n",
              "      <td>maze</td>\n",
              "      <td>buildings inside and outside</td>\n",
              "      <td>culverts</td>\n",
              "      <td>bridge sections</td>\n",
              "      <td>wall surfaces to simulate high rise buildings...</td>\n",
              "      <td>sensing and monitoring of unmanned air and gr...</td>\n",
              "      <td>...</td>\n",
              "      <td>NaN</td>\n",
              "      <td>NaN</td>\n",
              "      <td>NaN</td>\n",
              "      <td>NaN</td>\n",
              "      <td>NaN</td>\n",
              "      <td>NaN</td>\n",
              "      <td>NaN</td>\n",
              "      <td>NaN</td>\n",
              "      <td>NaN</td>\n",
              "      <td>NaN</td>\n",
              "    </tr>\n",
              "    <tr>\n",
              "      <th>3</th>\n",
              "      <td>Provision of Non Life Insurance</td>\n",
              "      <td>exclusive of Insurance Broking or Claims Mana...</td>\n",
              "      <td>exclusive of Insurance Broking or Claims Mana...</td>\n",
              "      <td>66515411</td>\n",
              "      <td>66516000</td>\n",
              "      <td>66514120</td>\n",
              "      <td>66512000</td>\n",
              "      <td>NaN</td>\n",
              "      <td>NaN</td>\n",
              "      <td>NaN</td>\n",
              "      <td>...</td>\n",
              "      <td>NaN</td>\n",
              "      <td>NaN</td>\n",
              "      <td>NaN</td>\n",
              "      <td>NaN</td>\n",
              "      <td>NaN</td>\n",
              "      <td>NaN</td>\n",
              "      <td>NaN</td>\n",
              "      <td>NaN</td>\n",
              "      <td>NaN</td>\n",
              "      <td>NaN</td>\n",
              "    </tr>\n",
              "    <tr>\n",
              "      <th>4</th>\n",
              "      <td>Provision of Non Life Insurance</td>\n",
              "      <td>exclusive of Insurance Broking or Claims Mana...</td>\n",
              "      <td>exclusive of Insurance Broking or Claims Mana...</td>\n",
              "      <td>66514150</td>\n",
              "      <td>66516500</td>\n",
              "      <td>66512000</td>\n",
              "      <td>66514120</td>\n",
              "      <td>66516000</td>\n",
              "      <td>66514110</td>\n",
              "      <td>NaN</td>\n",
              "      <td>...</td>\n",
              "      <td>NaN</td>\n",
              "      <td>NaN</td>\n",
              "      <td>NaN</td>\n",
              "      <td>NaN</td>\n",
              "      <td>NaN</td>\n",
              "      <td>NaN</td>\n",
              "      <td>NaN</td>\n",
              "      <td>NaN</td>\n",
              "      <td>NaN</td>\n",
              "      <td>NaN</td>\n",
              "    </tr>\n",
              "  </tbody>\n",
              "</table>\n",
              "<p>5 rows × 134 columns</p>\n",
              "</div>"
            ],
            "text/plain": [
              "                                               Title  \\\n",
              "0  Awarding a contract for establishment of a pub...   \n",
              "1  Development and purchase of office space and c...   \n",
              "2  211/YE/PIN Robotics research facility.\\tThe De...   \n",
              "3                    Provision of Non Life Insurance   \n",
              "4                    Provision of Non Life Insurance   \n",
              "\n",
              "                                     Additional Info  \\\n",
              "0                                       construction   \n",
              "1   office space and car parking in the Exeter ar...   \n",
              "2   including sourcing infrastructure equipment a...   \n",
              "3   exclusive of Insurance Broking or Claims Mana...   \n",
              "4   exclusive of Insurance Broking or Claims Mana...   \n",
              "\n",
              "                                         Description  \\\n",
              "0                                          financing   \n",
              "1            office and car park.DCH requires modern   \n",
              "2                              such as rough terrain   \n",
              "3   exclusive of Insurance Broking or Claims Mana...   \n",
              "4   exclusive of Insurance Broking or Claims Mana...   \n",
              "\n",
              "                                                 Ref  \\\n",
              "0   operation and distribution of water bottling ...   \n",
              "1   high quality office accommodation and parking...   \n",
              "2                                         vegetation   \n",
              "3                                           66515411   \n",
              "4                                           66514150   \n",
              "\n",
              "                                      TypeOfContract  \\\n",
              "0                                       construction   \n",
              "1   for completion no later than Spring 2018. Min...   \n",
              "2                                               maze   \n",
              "3                                           66516000   \n",
              "4                                           66516500   \n",
              "\n",
              "                                  Cpv(main)  \\\n",
              "0                                 financing   \n",
              "1   likely to include designated cycle-ways   \n",
              "2              buildings inside and outside   \n",
              "3                                  66514120   \n",
              "4                                  66512000   \n",
              "\n",
              "                                     Cpv(additional)  \\\n",
              "0   operation and distribution of water bottling ...   \n",
              "1   regular bus or trains to central Exeter (at l...   \n",
              "2                                           culverts   \n",
              "3                                           66512000   \n",
              "4                                           66514120   \n",
              "\n",
              "                                          Unnamed: 7  \\\n",
              "0   which is realised as a public procurementAwar...   \n",
              "1                                           45210000   \n",
              "2                                    bridge sections   \n",
              "3                                                NaN   \n",
              "4                                           66516000   \n",
              "\n",
              "                                          Unnamed: 8  \\\n",
              "0                                       construction   \n",
              "1                                           45400000   \n",
              "2   wall surfaces to simulate high rise buildings...   \n",
              "3                                                NaN   \n",
              "4                                           66514110   \n",
              "\n",
              "                                          Unnamed: 9     ...       \\\n",
              "0                                          financing     ...        \n",
              "1                                           45200000     ...        \n",
              "2   sensing and monitoring of unmanned air and gr...     ...        \n",
              "3                                                NaN     ...        \n",
              "4                                                NaN     ...        \n",
              "\n",
              "  Unnamed: 124 Unnamed: 125 Unnamed: 126 Unnamed: 127 Unnamed: 128  \\\n",
              "0          NaN          NaN          NaN          NaN          NaN   \n",
              "1          NaN          NaN          NaN          NaN          NaN   \n",
              "2          NaN          NaN          NaN          NaN          NaN   \n",
              "3          NaN          NaN          NaN          NaN          NaN   \n",
              "4          NaN          NaN          NaN          NaN          NaN   \n",
              "\n",
              "  Unnamed: 129 Unnamed: 130 Unnamed: 131 Unnamed: 132 Unnamed: 133  \n",
              "0          NaN          NaN          NaN          NaN          NaN  \n",
              "1          NaN          NaN          NaN          NaN          NaN  \n",
              "2          NaN          NaN          NaN          NaN          NaN  \n",
              "3          NaN          NaN          NaN          NaN          NaN  \n",
              "4          NaN          NaN          NaN          NaN          NaN  \n",
              "\n",
              "[5 rows x 134 columns]"
            ]
          },
          "metadata": {
            "tags": []
          },
          "execution_count": 6
        }
      ]
    },
    {
      "cell_type": "code",
      "metadata": {
        "id": "xLheo8zMthIZ",
        "colab_type": "code",
        "colab": {}
      },
      "source": [
        "# split data into train and test \n",
        "from sklearn.model_selection import train_test_split  # import standared train, test split library \n",
        "train_cat, test_cat = train_test_split(df['Cpv(main)'], test_size = 0.2)  # Spliting categories/ lables into train and test \n",
        "train_text, test_text = train_test_split(df['Description'], test_size = 0.2)  # Spliting text data into train and test "
      ],
      "execution_count": 0,
      "outputs": []
    },
    {
      "cell_type": "code",
      "metadata": {
        "id": "iSCptSUztuOT",
        "colab_type": "code",
        "outputId": "26d3f145-07bb-4c97-b310-0f59dbe0330d",
        "colab": {
          "base_uri": "https://localhost:8080/",
          "height": 34
        }
      },
      "source": [
        "train_cat.shape , test_cat.shape, train_text.shape, test_text.shape  # inspect the Shape and size of train, test split data"
      ],
      "execution_count": 0,
      "outputs": [
        {
          "output_type": "execute_result",
          "data": {
            "text/plain": [
              "((60,), (15,), (60,), (15,))"
            ]
          },
          "metadata": {
            "tags": []
          },
          "execution_count": 8
        }
      ]
    },
    {
      "cell_type": "code",
      "metadata": {
        "id": "-hbvtY_QtyxI",
        "colab_type": "code",
        "colab": {}
      },
      "source": [
        "from sklearn import preprocessing # importing standared library for text preprocessing \n",
        "\n",
        "# encoding the target variable ie. category \n",
        "encoder = preprocessing.LabelEncoder()\n",
        "y_train = encoder.fit_transform(train_cat.astype(str))\n",
        "y_test = encoder.fit_transform(test_cat.astype(str))"
      ],
      "execution_count": 0,
      "outputs": []
    },
    {
      "cell_type": "code",
      "metadata": {
        "id": "8chhNxSZt2V7",
        "colab_type": "code",
        "outputId": "3f7476f6-ef83-47e6-8a03-e4d62c5b94d0",
        "colab": {
          "base_uri": "https://localhost:8080/",
          "height": 34
        }
      },
      "source": [
        "# cleanig and tokenizing text with keras\n",
        "import keras\n",
        "from keras_preprocessing import text\n",
        "max_words = 10000\n",
        "tokenize = keras.preprocessing.text.Tokenizer(num_words=max_words,filters='!\"#$%&()*+,-./:;<=>?@[\\]^_`{|}~', lower=True, split=' ',char_level=False, oov_token=None)\n",
        "tokenize.fit_on_texts(train_text.astype(str)) # fit tokenizer to our training text data"
      ],
      "execution_count": 0,
      "outputs": [
        {
          "output_type": "stream",
          "text": [
            "Using TensorFlow backend.\n"
          ],
          "name": "stderr"
        }
      ]
    },
    {
      "cell_type": "code",
      "metadata": {
        "id": "1EAJAWG5t5zs",
        "colab_type": "code",
        "outputId": "98be2efd-e349-4e81-f426-67887d500f54",
        "colab": {
          "base_uri": "https://localhost:8080/",
          "height": 34
        }
      },
      "source": [
        "# creatin text_to_matrix for calculating term-frequency-inverse document frequency for training\n",
        "x_train = tokenize.texts_to_matrix(train_text.astype(str), mode = \"tfidf\") \n",
        "x_train.shape"
      ],
      "execution_count": 0,
      "outputs": [
        {
          "output_type": "execute_result",
          "data": {
            "text/plain": [
              "(60, 10000)"
            ]
          },
          "metadata": {
            "tags": []
          },
          "execution_count": 11
        }
      ]
    },
    {
      "cell_type": "code",
      "metadata": {
        "id": "b0CUNR7-t8wT",
        "colab_type": "code",
        "colab": {}
      },
      "source": [
        "# cleanig and tokenizing text with keras\n",
        "#import keras\n",
        "from keras_preprocessing import text\n",
        "max_words = 10000\n",
        "tokenize = keras.preprocessing.text.Tokenizer(num_words=max_words,filters='!\"#$%&()*+,-./:;<=>?@[\\]^_`{|}~', lower=True, split=' ',char_level=False, oov_token=None)\n",
        "tokenize.fit_on_texts(train_text.astype(str)) # fit tokenizer to our training text data"
      ],
      "execution_count": 0,
      "outputs": []
    },
    {
      "cell_type": "code",
      "metadata": {
        "id": "bZG8NGO8t_y0",
        "colab_type": "code",
        "outputId": "2125ed78-5323-4ba6-f0f1-c6dfd99dab1a",
        "colab": {
          "base_uri": "https://localhost:8080/",
          "height": 34
        }
      },
      "source": [
        "# creatin text_to_matrix for calculating term-frequency-inverse document frequency for training\n",
        "x_train = tokenize.texts_to_matrix(train_text.astype(str), mode = \"tfidf\") \n",
        "x_train.shape"
      ],
      "execution_count": 0,
      "outputs": [
        {
          "output_type": "execute_result",
          "data": {
            "text/plain": [
              "(60, 10000)"
            ]
          },
          "metadata": {
            "tags": []
          },
          "execution_count": 13
        }
      ]
    },
    {
      "cell_type": "code",
      "metadata": {
        "id": "uteqBauXuDL5",
        "colab_type": "code",
        "colab": {}
      },
      "source": [
        "# cleanig and tokenizing text with keras\n",
        "from keras_preprocessing import text\n",
        "max_words = 10000\n",
        "tokenize = keras.preprocessing.text.Tokenizer(num_words=max_words,filters='!\"#$%&()*+,-./:;<=>?@[\\]^_`{|}~', lower=True, split=' ',char_level=False, oov_token=None)\n",
        "tokenize.fit_on_texts(train_text.astype(str)) # fit tokenizer to our training text data"
      ],
      "execution_count": 0,
      "outputs": []
    },
    {
      "cell_type": "code",
      "metadata": {
        "id": "zHlO-7P7uF_8",
        "colab_type": "code",
        "outputId": "3eb571aa-2418-4346-b001-5dfe41572738",
        "colab": {
          "base_uri": "https://localhost:8080/",
          "height": 34
        }
      },
      "source": [
        "# creatin text_to_matrix for calculating term-frequency-inverse document frequency for testing\n",
        "x_test = tokenize.texts_to_matrix(test_text.astype(str), mode = \"tfidf\")\n",
        "x_test.shape"
      ],
      "execution_count": 0,
      "outputs": [
        {
          "output_type": "execute_result",
          "data": {
            "text/plain": [
              "(15, 10000)"
            ]
          },
          "metadata": {
            "tags": []
          },
          "execution_count": 16
        }
      ]
    },
    {
      "cell_type": "code",
      "metadata": {
        "id": "NY7ULUPruJBU",
        "colab_type": "code",
        "outputId": "945872bd-3499-42c3-e344-c84ffb9dee71",
        "colab": {
          "base_uri": "https://localhost:8080/",
          "height": 34
        }
      },
      "source": [
        "import numpy as np #importing numpy for linear algebric operations\n",
        "\n",
        "# # Converts the labels to a one-hot representation\n",
        "num_classes = np.max(y_train.astype(int)) + 1\n",
        "y_train = keras.utils.to_categorical(y_train, num_classes)\n",
        "y_test = keras.utils.to_categorical(y_test, num_classes)\n",
        "y_train.shape , y_test.shape"
      ],
      "execution_count": 0,
      "outputs": [
        {
          "output_type": "execute_result",
          "data": {
            "text/plain": [
              "((60, 40), (15, 40))"
            ]
          },
          "metadata": {
            "tags": []
          },
          "execution_count": 17
        }
      ]
    },
    {
      "cell_type": "code",
      "metadata": {
        "id": "UVyyl1sJuLtw",
        "colab_type": "code",
        "outputId": "fc6d4623-5545-44df-ae00-997fc4efbc54",
        "colab": {
          "base_uri": "https://localhost:8080/",
          "height": 85
        }
      },
      "source": [
        "# Inspect the dimenstions of our training and test data (this is helpful to debug)\n",
        "print('x_train shape:', x_train.shape)\n",
        "print('x_test shape:', x_test.shape)\n",
        "print('y_train shape:', y_train.shape)\n",
        "print('y_test shape:', y_test.shape)"
      ],
      "execution_count": 0,
      "outputs": [
        {
          "output_type": "stream",
          "text": [
            "x_train shape: (60, 10000)\n",
            "x_test shape: (15, 10000)\n",
            "y_train shape: (60, 40)\n",
            "y_test shape: (15, 40)\n"
          ],
          "name": "stdout"
        }
      ]
    },
    {
      "cell_type": "code",
      "metadata": {
        "id": "-4T-crZAuOb_",
        "colab_type": "code",
        "colab": {}
      },
      "source": [
        "import tensorflow as tf\n",
        "#from tensorflow import keras\n",
        "from keras.models import Sequential\n",
        "from keras.layers.core import Dense, Activation, Dropout\n",
        "from keras.layers.recurrent import LSTM\n",
        "from keras.layers import Embedding"
      ],
      "execution_count": 0,
      "outputs": []
    },
    {
      "cell_type": "code",
      "metadata": {
        "id": "vw_dC-j7uQkp",
        "colab_type": "code",
        "colab": {}
      },
      "source": [
        "# This model trains very quickly and 2 epochs are already more than enough\n",
        "# Training for more epochs will likely lead to overfitting on this dataset\n",
        "\n",
        "batch_size = 32\n",
        "epochs = 2-3\n",
        "drop_ratio = 0.5\n",
        "max_words=10000"
      ],
      "execution_count": 0,
      "outputs": []
    },
    {
      "cell_type": "code",
      "metadata": {
        "id": "eKg6jZ9CuS0A",
        "colab_type": "code",
        "colab": {}
      },
      "source": [
        "def Tend_LSTM():\n",
        "    model = Sequential()\n",
        "    model.add(Embedding(max_words, 1))\n",
        "    model.add(LSTM(128, dropout=0.5, recurrent_dropout=0.5))\n",
        "    model.add(Dense(num_classes, activation='softmax'))\n",
        "    model.compile(loss='binary_crossentropy', optimizer='rmsprop', metrics=['accuracy'])\n",
        "    return model"
      ],
      "execution_count": 0,
      "outputs": []
    },
    {
      "cell_type": "code",
      "metadata": {
        "id": "TD03x6_zuVvj",
        "colab_type": "code",
        "outputId": "b2676ee3-663a-4c7e-8338-2586ca521d96",
        "colab": {
          "base_uri": "https://localhost:8080/",
          "height": 360
        }
      },
      "source": [
        "model = Tend_LSTM()\n",
        "model.summary()"
      ],
      "execution_count": 0,
      "outputs": [
        {
          "output_type": "stream",
          "text": [
            "WARNING:tensorflow:From /usr/local/lib/python3.6/dist-packages/tensorflow/python/framework/op_def_library.py:263: colocate_with (from tensorflow.python.framework.ops) is deprecated and will be removed in a future version.\n",
            "Instructions for updating:\n",
            "Colocations handled automatically by placer.\n",
            "WARNING:tensorflow:From /usr/local/lib/python3.6/dist-packages/keras/backend/tensorflow_backend.py:3445: calling dropout (from tensorflow.python.ops.nn_ops) with keep_prob is deprecated and will be removed in a future version.\n",
            "Instructions for updating:\n",
            "Please use `rate` instead of `keep_prob`. Rate should be set to `rate = 1 - keep_prob`.\n",
            "_________________________________________________________________\n",
            "Layer (type)                 Output Shape              Param #   \n",
            "=================================================================\n",
            "embedding_1 (Embedding)      (None, None, 1)           10000     \n",
            "_________________________________________________________________\n",
            "lstm_1 (LSTM)                (None, 128)               66560     \n",
            "_________________________________________________________________\n",
            "dense_1 (Dense)              (None, 40)                5160      \n",
            "=================================================================\n",
            "Total params: 81,720\n",
            "Trainable params: 81,720\n",
            "Non-trainable params: 0\n",
            "_________________________________________________________________\n"
          ],
          "name": "stdout"
        }
      ]
    },
    {
      "cell_type": "code",
      "metadata": {
        "id": "Y4208pSGuZif",
        "colab_type": "code",
        "outputId": "7b5d8ad8-4900-47b8-8238-0b0ac51caa1c",
        "colab": {
          "base_uri": "https://localhost:8080/",
          "height": 190
        }
      },
      "source": [
        "# train models with 2 epoch \n",
        "model.fit(x_train, y_train, batch_size=16, epochs=2)\n",
        "score = model.evaluate(x_test, y_test, batch_size=32)\n",
        "print('Testing score Loss: {:0.3f}  Accuracy: {:0.3f}'.format(score[0],score[1]))"
      ],
      "execution_count": 0,
      "outputs": [
        {
          "output_type": "stream",
          "text": [
            "WARNING:tensorflow:From /usr/local/lib/python3.6/dist-packages/tensorflow/python/ops/math_ops.py:3066: to_int32 (from tensorflow.python.ops.math_ops) is deprecated and will be removed in a future version.\n",
            "Instructions for updating:\n",
            "Use tf.cast instead.\n",
            "Epoch 1/2\n",
            "60/60 [==============================] - 39s 654ms/step - loss: 0.1166 - acc: 0.9750\n",
            "Epoch 2/2\n",
            "60/60 [==============================] - 37s 610ms/step - loss: 0.1122 - acc: 0.9746\n",
            "15/15 [==============================] - 2s 106ms/step\n",
            "Testing score Loss: 0.122  Accuracy: 0.975\n"
          ],
          "name": "stdout"
        }
      ]
    },
    {
      "cell_type": "code",
      "metadata": {
        "id": "2IfO_ecru6_O",
        "colab_type": "code",
        "outputId": "53ebe1e6-63c3-467f-c7e6-21d8eba1feb7",
        "colab": {
          "base_uri": "https://localhost:8080/",
          "height": 34
        }
      },
      "source": [
        "from keras.models import load_model\n",
        "model.save(\"Tend_LSTM_model2.h5\")\n",
        "print(\"model saved\")\n",
        "get_ipython().run_line_magic('notebook', '\"2015_Ted.csv\"')"
      ],
      "execution_count": 0,
      "outputs": [
        {
          "output_type": "stream",
          "text": [
            "model saved\n"
          ],
          "name": "stdout"
        }
      ]
    }
  ]
}